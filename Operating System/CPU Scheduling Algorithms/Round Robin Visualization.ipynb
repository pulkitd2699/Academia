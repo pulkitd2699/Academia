{
 "cells": [
  {
   "cell_type": "code",
   "execution_count": 13,
   "metadata": {},
   "outputs": [],
   "source": [
    "import numpy as np\n",
    "import matplotlib.pyplot as plt\n",
    "import seaborn as sns\n",
    "%matplotlib inline"
   ]
  },
  {
   "cell_type": "code",
   "execution_count": 8,
   "metadata": {},
   "outputs": [
    {
     "name": "stdout",
     "output_type": "stream",
     "text": [
      "Enter no of process3\n",
      "Enter the process\n",
      "1\n",
      "2\n",
      "3\n",
      "Enter the burst\n",
      "20\n",
      "10\n",
      "5\n",
      "Enter time slice int range value20\n",
      "[1, 2, 3, 4, 5, 6, 7, 8, 9, 10, 11, 12, 13, 14, 15, 16, 17, 18, 19, 20]\n",
      "[13.33333333 14.         14.66666667 16.         13.33333333 14.66666667\n",
      " 16.         17.33333333 18.66666667 15.         15.66666667 16.33333333\n",
      " 17.         17.66666667 18.33333333 19.         19.66666667 20.33333333\n",
      " 21.         16.66666667]\n"
     ]
    }
   ],
   "source": [
    "def WaitingTime(process,n,bt,wt,timeslice):\n",
    "    rem_bt = [0] * n\n",
    "    wait_time = []\n",
    "    \n",
    "    for j in range(1,len(timeslice)+1):\n",
    "        for i in range(n):\n",
    "            rem_bt[i] = bt[i]\n",
    "        wt = [0] * n\n",
    "        t=0\n",
    "        while(1):\n",
    "            done = True    \n",
    "            for i in range(n):\n",
    "                if(rem_bt[i] > 0):\n",
    "                    done = False\n",
    "                    if(rem_bt[i] > j):\n",
    "                        t+=j\n",
    "                        rem_bt[i] -= j\n",
    "                    else:\n",
    "                        t = t + rem_bt[i]\n",
    "                        wt[i] = t - bt[i]\n",
    "                        rem_bt[i] = 0\n",
    "            if(done == True):\n",
    "                break\n",
    "        wait_time.append(wt)\n",
    "    return wait_time\n",
    "\n",
    "def AvgWaitingTime(process,n,bt,timeslice):\n",
    "    print(timeslice)\n",
    "    wt = [0] * n\n",
    "    total_wt = []\n",
    "    wait_time = WaitingTime(process,n,bt,wt,timeslice)\n",
    "    for i in range(len(wait_time)):\n",
    "        sum=0\n",
    "        for j in wait_time[i]:\n",
    "            sum += j \n",
    "        total_wt.append(sum)\n",
    "    arr = np.array(total_wt)\n",
    "    return(arr/n)\n",
    "        \n",
    "if __name__ ==\"__main__\":\n",
    "    n = int(input(\"Enter no of process\"))\n",
    "    process = []\n",
    "    bt = []\n",
    "    timeslice = []\n",
    "    avg=[]\n",
    "    print(\"Enter the process\")\n",
    "    for i in range(n):\n",
    "        i = int(input())\n",
    "        process.append(i)\n",
    "    print(\"Enter the burst\")\n",
    "    for i in range(n):\n",
    "        i = int(input())\n",
    "        bt.append(i)\n",
    "    time = int(input(\"Enter time slice int range value\"))\n",
    "    for i in range(1,time+1):\n",
    "        timeslice.append(i)\n",
    "    avg = AvgWaitingTime(process,n,bt,timeslice) \n",
    "    print(avg)\n",
    "    np.array(timeslice)"
   ]
  },
  {
   "cell_type": "code",
   "execution_count": 19,
   "metadata": {},
   "outputs": [
    {
     "data": {
      "text/plain": [
       "Text(0, 0.5, 'time slice values')"
      ]
     },
     "execution_count": 19,
     "metadata": {},
     "output_type": "execute_result"
    },
    {
     "data": {
      "image/png": "[encoded data removed]",
      "text/plain": [
       "<Figure size 432x288 with 1 Axes>"
      ]
     },
     "metadata": {
      "needs_background": "light"
     },
     "output_type": "display_data"
    }
   ],
   "source": [
    "plt.scatter(avg,timeslice)\n",
    "plt.xlabel(\"average time\")\n",
    "plt.ylabel(\"time slice values\")"
   ]
  },
  {
   "cell_type": "code",
   "execution_count": 20,
   "metadata": {},
   "outputs": [
    {
     "name": "stderr",
     "output_type": "stream",
     "text": [
      "D:\\Anaconda\\lib\\site-packages\\scipy\\stats\\stats.py:1713: FutureWarning: Using a non-tuple sequence for multidimensional indexing is deprecated; use `arr[tuple(seq)]` instead of `arr[seq]`. In the future this will be interpreted as an array index, `arr[np.array(seq)]`, which will result either in an error or a different result.\n",
      "  return np.add.reduce(sorted[indexer] * weights, axis=axis) / sumval\n"
     ]
    },
    {
     "data": {
      "text/plain": [
       "<seaborn.axisgrid.JointGrid at 0x6644bb2e10>"
      ]
     },
     "execution_count": 20,
     "metadata": {},
     "output_type": "execute_result"
    },
    {
     "data": {
      "image/png": "[encoded data removed]",
      "text/plain": [
       "<Figure size 432x432 with 3 Axes>"
      ]
     },
     "metadata": {
      "needs_background": "light"
     },
     "output_type": "display_data"
    }
   ],
   "source": [
    "sns.jointplot(avg,timeslice,kind=\"kde\")"
   ]
  },
  {
   "cell_type": "code",
   "execution_count": null,
   "metadata": {},
   "outputs": [],
   "source": []
  }
 ],
 "metadata": {
  "kernelspec": {
   "display_name": "Python 3",
   "language": "python",
   "name": "python3"
  },
  "language_info": {
   "codemirror_mode": {
    "name": "ipython",
    "version": 3
   },
   "file_extension": ".py",
   "mimetype": "text/x-python",
   "name": "python",
   "nbconvert_exporter": "python",
   "pygments_lexer": "ipython3",
   "version": "3.6.4"
  }
 },
 "nbformat": 4,
 "nbformat_minor": 2
}
